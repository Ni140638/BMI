{
    "cells": [
        {
            "cell_type": "code",
            "execution_count": 1,
            "metadata": {},
            "outputs": [
                {
                    "data": {
                        "text/html": "<div>\n<style scoped>\n    .dataframe tbody tr th:only-of-type {\n        vertical-align: middle;\n    }\n\n    .dataframe tbody tr th {\n        vertical-align: top;\n    }\n\n    .dataframe thead th {\n        text-align: right;\n    }\n</style>\n<table border=\"1\" class=\"dataframe\">\n  <thead>\n    <tr style=\"text-align: right;\">\n      <th></th>\n      <th>timestamp</th>\n      <th>TimeMST</th>\n      <th>TemperatureC</th>\n      <th>Dew PointC</th>\n      <th>Humidity</th>\n      <th>Sea Level PressurehPa</th>\n      <th>VisibilityKm</th>\n      <th>Wind Direction</th>\n      <th>Wind SpeedKm/h</th>\n      <th>Gust SpeedKm/h</th>\n      <th>Precipitationmm</th>\n      <th>Events</th>\n      <th>Conditions</th>\n      <th>WindDirDegrees</th>\n      <th>DateUTC&lt;br /&gt;</th>\n      <th>timestamp.1</th>\n    </tr>\n  </thead>\n  <tbody>\n    <tr>\n      <th>0</th>\n      <td>2015-01-01 00:51:00</td>\n      <td>12:51 AM</td>\n      <td>2.8</td>\n      <td>-0.6</td>\n      <td>79.0</td>\n      <td>1016.0</td>\n      <td>16.1</td>\n      <td>WNW</td>\n      <td>9.3</td>\n      <td>-</td>\n      <td>NaN</td>\n      <td>NaN</td>\n      <td>Mostly Cloudy</td>\n      <td>300</td>\n      <td>2015-01-01 07:51:00&lt;br /&gt;</td>\n      <td>2015-01-01 00:51:00</td>\n    </tr>\n    <tr>\n      <th>1</th>\n      <td>2015-01-01 01:47:00</td>\n      <td>1:47 AM</td>\n      <td>3.0</td>\n      <td>-1.0</td>\n      <td>75.0</td>\n      <td>1016.5</td>\n      <td>16.1</td>\n      <td>WNW</td>\n      <td>5.6</td>\n      <td>-</td>\n      <td>NaN</td>\n      <td>NaN</td>\n      <td>Mostly Cloudy</td>\n      <td>300</td>\n      <td>2015-01-01 08:47:00&lt;br /&gt;</td>\n      <td>2015-01-01 01:47:00</td>\n    </tr>\n    <tr>\n      <th>2</th>\n      <td>2015-01-01 01:51:00</td>\n      <td>1:51 AM</td>\n      <td>2.8</td>\n      <td>-0.6</td>\n      <td>79.0</td>\n      <td>1016.9</td>\n      <td>16.1</td>\n      <td>WNW</td>\n      <td>7.4</td>\n      <td>-</td>\n      <td>NaN</td>\n      <td>NaN</td>\n      <td>Mostly Cloudy</td>\n      <td>300</td>\n      <td>2015-01-01 08:51:00&lt;br /&gt;</td>\n      <td>2015-01-01 01:51:00</td>\n    </tr>\n    <tr>\n      <th>3</th>\n      <td>2015-01-01 02:51:00</td>\n      <td>2:51 AM</td>\n      <td>2.8</td>\n      <td>-1.1</td>\n      <td>76.0</td>\n      <td>1017.2</td>\n      <td>16.1</td>\n      <td>NW</td>\n      <td>5.6</td>\n      <td>-</td>\n      <td>NaN</td>\n      <td>NaN</td>\n      <td>Scattered Clouds</td>\n      <td>320</td>\n      <td>2015-01-01 09:51:00&lt;br /&gt;</td>\n      <td>2015-01-01 02:51:00</td>\n    </tr>\n    <tr>\n      <th>4</th>\n      <td>2015-01-01 03:51:00</td>\n      <td>3:51 AM</td>\n      <td>2.2</td>\n      <td>-0.6</td>\n      <td>82.0</td>\n      <td>1017.5</td>\n      <td>16.1</td>\n      <td>ENE</td>\n      <td>5.6</td>\n      <td>-</td>\n      <td>NaN</td>\n      <td>NaN</td>\n      <td>Partly Cloudy</td>\n      <td>60</td>\n      <td>2015-01-01 10:51:00&lt;br /&gt;</td>\n      <td>2015-01-01 03:51:00</td>\n    </tr>\n  </tbody>\n</table>\n</div>",
                        "text/plain": "             timestamp   TimeMST  TemperatureC  Dew PointC  Humidity  \\\n0  2015-01-01 00:51:00  12:51 AM           2.8        -0.6      79.0   \n1  2015-01-01 01:47:00   1:47 AM           3.0        -1.0      75.0   \n2  2015-01-01 01:51:00   1:51 AM           2.8        -0.6      79.0   \n3  2015-01-01 02:51:00   2:51 AM           2.8        -1.1      76.0   \n4  2015-01-01 03:51:00   3:51 AM           2.2        -0.6      82.0   \n\n   Sea Level PressurehPa  VisibilityKm Wind Direction Wind SpeedKm/h  \\\n0                 1016.0          16.1            WNW            9.3   \n1                 1016.5          16.1            WNW            5.6   \n2                 1016.9          16.1            WNW            7.4   \n3                 1017.2          16.1             NW            5.6   \n4                 1017.5          16.1            ENE            5.6   \n\n  Gust SpeedKm/h  Precipitationmm Events        Conditions  WindDirDegrees  \\\n0              -              NaN    NaN     Mostly Cloudy             300   \n1              -              NaN    NaN     Mostly Cloudy             300   \n2              -              NaN    NaN     Mostly Cloudy             300   \n3              -              NaN    NaN  Scattered Clouds             320   \n4              -              NaN    NaN     Partly Cloudy              60   \n\n               DateUTC<br />          timestamp.1  \n0  2015-01-01 07:51:00<br />  2015-01-01 00:51:00  \n1  2015-01-01 08:47:00<br />  2015-01-01 01:47:00  \n2  2015-01-01 08:51:00<br />  2015-01-01 01:51:00  \n3  2015-01-01 09:51:00<br />  2015-01-01 02:51:00  \n4  2015-01-01 10:51:00<br />  2015-01-01 03:51:00  "
                    },
                    "execution_count": 1,
                    "metadata": {},
                    "output_type": "execute_result"
                }
            ],
            "source": "# The code was removed by Watson Studio for sharing."
        },
        {
            "cell_type": "code",
            "execution_count": null,
            "metadata": {},
            "outputs": [],
            "source": ""
        }
    ],
    "metadata": {
        "kernelspec": {
            "display_name": "Python 3.6",
            "language": "python",
            "name": "python3"
        },
        "language_info": {
            "codemirror_mode": {
                "name": "ipython",
                "version": 3
            },
            "file_extension": ".py",
            "mimetype": "text/x-python",
            "name": "python",
            "nbconvert_exporter": "python",
            "pygments_lexer": "ipython3",
            "version": "3.6.9"
        }
    },
    "nbformat": 4,
    "nbformat_minor": 1
}